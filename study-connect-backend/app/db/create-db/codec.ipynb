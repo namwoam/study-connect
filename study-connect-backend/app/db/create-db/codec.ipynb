{
 "cells": [
  {
   "cell_type": "code",
   "execution_count": null,
   "metadata": {},
   "outputs": [],
   "source": [
    "import json\n",
    "with open(\"ANNOUNCEMENT.csv\") as reader:\n",
    "    data = json.loads(reader.read())"
   ]
  }
 ],
 "metadata": {
  "language_info": {
   "name": "python"
  }
 },
 "nbformat": 4,
 "nbformat_minor": 2
}
