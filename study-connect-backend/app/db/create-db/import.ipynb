{
 "cells": [
  {
   "cell_type": "code",
   "execution_count": 5,
   "metadata": {},
   "outputs": [
    {
     "name": "stdout",
     "output_type": "stream",
     "text": [
      "Converting: ANNOUNCEMENT\n",
      "Converting: COURSE\n",
      "Converting: DEPARTMENT\n",
      "Converting: STUDY_GROUP\n",
      "Converting: INSTRUCTOR\n",
      "Converting: JOIN_GROUP\n",
      "Converting: MEET\n",
      "Converting: OFFER_COURSE\n",
      "Converting: TAKE_COURSE\n",
      "Converting: IS_FRIEND_OF\n",
      "Converting: USER\n"
     ]
    }
   ],
   "source": [
    "import pandas as pd\n",
    "import sqlite3\n",
    "conn = sqlite3.connect('db.sqlite')\n",
    "\n",
    "tables = [\"ANNOUNCEMENT\", \"COURSE\", \"DEPARTMENT\", \"STUDY_GROUP\",\n",
    "          \"INSTRUCTOR\", \"JOIN_GROUP\", \"MEET\", \"OFFER_COURSE\", \"TAKE_COURSE\", \"IS_FRIEND_OF\", \"USER\"]\n",
    "\n",
    "\n",
    "for table in tables:\n",
    "    print(\"Converting:\", table)\n",
    "    df = pd.read_csv(f\"{table}.csv\",)\n",
    "    df.to_sql(table, conn, if_exists='replace', index=False)"
   ]
  }
 ],
 "metadata": {
  "kernelspec": {
   "display_name": "base",
   "language": "python",
   "name": "python3"
  },
  "language_info": {
   "codemirror_mode": {
    "name": "ipython",
    "version": 3
   },
   "file_extension": ".py",
   "mimetype": "text/x-python",
   "name": "python",
   "nbconvert_exporter": "python",
   "pygments_lexer": "ipython3",
   "version": "3.10.12"
  }
 },
 "nbformat": 4,
 "nbformat_minor": 2
}
