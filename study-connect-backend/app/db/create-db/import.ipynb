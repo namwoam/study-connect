{
 "cells": [
  {
   "cell_type": "code",
   "execution_count": 12,
   "metadata": {},
   "outputs": [
    {
     "name": "stdout",
     "output_type": "stream",
     "text": [
      "Converting: DEPARTMENT\n",
      "Converting: INSTRUCTOR\n",
      "Converting: COURSE\n",
      "Converting: STUDY_GROUP\n",
      "Converting: ANNOUNCEMENT\n",
      "Converting: CONTACT\n",
      "Converting: JOIN_GROUP\n",
      "Converting: MEET\n",
      "Converting: USER\n"
     ]
    }
   ],
   "source": [
    "import pandas as pd\n",
    "import sqlite3\n",
    "from sqlalchemy import create_engine , text\n",
    "\n",
    "engine = create_engine('sqlite:///data.db', echo=False)\n",
    "tables = [\"DEPARTMENT\", \"INSTRUCTOR\", \"COURSE\", \"STUDY_GROUP\", \"ANNOUNCEMENT\",  \"CONTACT\",\n",
    "          \"JOIN_GROUP\", \"MEET\" , \"USER\"]\n",
    "\n",
    "# Read the SQL schema file\n",
    "with open(\"schema.sql\", 'r') as schema_file:\n",
    "    schema = schema_file.read()\n",
    "\n",
    "    # Split the schema into individual SQL statements\n",
    "    statements = schema.split(';')\n",
    "\n",
    "    # Execute each statement\n",
    "    for statement in statements:\n",
    "        statement = statement.strip()\n",
    "        if statement:\n",
    "            try:\n",
    "                with engine.connect() as connection:\n",
    "                    connection.execute(text(statement))\n",
    "            except sqlite3.OperationalError as e:\n",
    "                # Handle the error if the table already exists\n",
    "                if \"already exists\" not in str(e):\n",
    "                    print(f\"Error: {e}\")\n",
    "                    print(f\"Skipping statement: {statement}\")\n",
    "                    continue\n",
    "for table in tables:\n",
    "    print(\"Converting:\", table)\n",
    "\n",
    "# Read the CSV file\n",
    "    df = pd.read_csv(f\"{table}.csv\")\n",
    "    if table == \"STUDY_GROUP\" or table == \"COURSE\" or table == \"OFFER_COURSE\" or table == \"JOIN_GROUP\":\n",
    "        pass\n",
    "        del df[df.columns[0]]\n",
    "    if table == \"DEPARTMENT\":\n",
    "        df = df.drop_duplicates(subset='department_ID')\n",
    "    if table == \"CONTACT\":\n",
    "        df = df.drop_duplicates(subset=\"user_ID\")\n",
    "    if table == \"JOIN_GROUP\":\n",
    "        df = df.drop_duplicates(subset=[\"group_ID\" , \"user_ID\"])\n",
    "    # Insert data into the table\n",
    "\n",
    "    with engine.begin() as connection:\n",
    "        df.to_sql(table, connection, if_exists='append', index=False)\n",
    "\n",
    "# Commit the changes and close the connection\n",
    "\n",
    "\n",
    "# \"MEET_AVAILABLE_TIME\", \"TAKE_COURSE\", \"IS_FRIEND_OF\",\"OFFER_COURSE\", \"USER\""
   ]
  }
 ],
 "metadata": {
  "kernelspec": {
   "display_name": "db-env",
   "language": "python",
   "name": "python3"
  },
  "language_info": {
   "codemirror_mode": {
    "name": "ipython",
    "version": 3
   },
   "file_extension": ".py",
   "mimetype": "text/x-python",
   "name": "python",
   "nbconvert_exporter": "python",
   "pygments_lexer": "ipython3",
   "version": "3.12.0"
  }
 },
 "nbformat": 4,
 "nbformat_minor": 2
}
