{
 "cells": [
  {
   "cell_type": "code",
   "execution_count": 3,
   "metadata": {},
   "outputs": [
    {
     "name": "stdout",
     "output_type": "stream",
     "text": [
      "Converting: DEPARTMENT\n",
      "Converting: INSTRUCTOR\n",
      "Converting: COURSE\n",
      "Converting: STUDY_GROUP\n",
      "Converting: ANNOUNCEMENT\n",
      "Converting: CONTACT\n",
      "Converting: JOIN_GROUP\n",
      "Converting: MEET\n",
      "Converting: USER\n"
     ]
    },
    {
     "ename": "UnicodeDecodeError",
     "evalue": "'utf-8' codec can't decode byte 0xb3 in position 10: invalid start byte",
     "output_type": "error",
     "traceback": [
      "\u001b[0;31m---------------------------------------------------------------------------\u001b[0m",
      "\u001b[0;31mUnicodeDecodeError\u001b[0m                        Traceback (most recent call last)",
      "\u001b[1;32m/home/namwoam/rep/study-connect/study-connect-backend/app/db/create-db/import.ipynb Cell 1\u001b[0m line \u001b[0;36m3\n\u001b[1;32m     <a href='vscode-notebook-cell:/home/namwoam/rep/study-connect/study-connect-backend/app/db/create-db/import.ipynb#W0sZmlsZQ%3D%3D?line=29'>30</a>\u001b[0m     \u001b[39mprint\u001b[39m(\u001b[39m\"\u001b[39m\u001b[39mConverting:\u001b[39m\u001b[39m\"\u001b[39m, table)\n\u001b[1;32m     <a href='vscode-notebook-cell:/home/namwoam/rep/study-connect/study-connect-backend/app/db/create-db/import.ipynb#W0sZmlsZQ%3D%3D?line=31'>32</a>\u001b[0m \u001b[39m# Read the CSV file\u001b[39;00m\n\u001b[0;32m---> <a href='vscode-notebook-cell:/home/namwoam/rep/study-connect/study-connect-backend/app/db/create-db/import.ipynb#W0sZmlsZQ%3D%3D?line=32'>33</a>\u001b[0m     df \u001b[39m=\u001b[39m pd\u001b[39m.\u001b[39;49mread_csv(\u001b[39mf\u001b[39;49m\u001b[39m\"\u001b[39;49m\u001b[39m{\u001b[39;49;00mtable\u001b[39m}\u001b[39;49;00m\u001b[39m.csv\u001b[39;49m\u001b[39m\"\u001b[39;49m)\n\u001b[1;32m     <a href='vscode-notebook-cell:/home/namwoam/rep/study-connect/study-connect-backend/app/db/create-db/import.ipynb#W0sZmlsZQ%3D%3D?line=33'>34</a>\u001b[0m     \u001b[39mif\u001b[39;00m table \u001b[39m==\u001b[39m \u001b[39m\"\u001b[39m\u001b[39mSTUDY_GROUP\u001b[39m\u001b[39m\"\u001b[39m \u001b[39mor\u001b[39;00m table \u001b[39m==\u001b[39m \u001b[39m\"\u001b[39m\u001b[39mCOURSE\u001b[39m\u001b[39m\"\u001b[39m \u001b[39mor\u001b[39;00m table \u001b[39m==\u001b[39m \u001b[39m\"\u001b[39m\u001b[39mJOIN_GROUP\u001b[39m\u001b[39m\"\u001b[39m:\n\u001b[1;32m     <a href='vscode-notebook-cell:/home/namwoam/rep/study-connect/study-connect-backend/app/db/create-db/import.ipynb#W0sZmlsZQ%3D%3D?line=34'>35</a>\u001b[0m         \u001b[39mpass\u001b[39;00m\n",
      "File \u001b[0;32m~/mambaforge/envs/db-env/lib/python3.12/site-packages/pandas/io/parsers/readers.py:948\u001b[0m, in \u001b[0;36mread_csv\u001b[0;34m(filepath_or_buffer, sep, delimiter, header, names, index_col, usecols, dtype, engine, converters, true_values, false_values, skipinitialspace, skiprows, skipfooter, nrows, na_values, keep_default_na, na_filter, verbose, skip_blank_lines, parse_dates, infer_datetime_format, keep_date_col, date_parser, date_format, dayfirst, cache_dates, iterator, chunksize, compression, thousands, decimal, lineterminator, quotechar, quoting, doublequote, escapechar, comment, encoding, encoding_errors, dialect, on_bad_lines, delim_whitespace, low_memory, memory_map, float_precision, storage_options, dtype_backend)\u001b[0m\n\u001b[1;32m    935\u001b[0m kwds_defaults \u001b[39m=\u001b[39m _refine_defaults_read(\n\u001b[1;32m    936\u001b[0m     dialect,\n\u001b[1;32m    937\u001b[0m     delimiter,\n\u001b[0;32m   (...)\u001b[0m\n\u001b[1;32m    944\u001b[0m     dtype_backend\u001b[39m=\u001b[39mdtype_backend,\n\u001b[1;32m    945\u001b[0m )\n\u001b[1;32m    946\u001b[0m kwds\u001b[39m.\u001b[39mupdate(kwds_defaults)\n\u001b[0;32m--> 948\u001b[0m \u001b[39mreturn\u001b[39;00m _read(filepath_or_buffer, kwds)\n",
      "File \u001b[0;32m~/mambaforge/envs/db-env/lib/python3.12/site-packages/pandas/io/parsers/readers.py:611\u001b[0m, in \u001b[0;36m_read\u001b[0;34m(filepath_or_buffer, kwds)\u001b[0m\n\u001b[1;32m    608\u001b[0m _validate_names(kwds\u001b[39m.\u001b[39mget(\u001b[39m\"\u001b[39m\u001b[39mnames\u001b[39m\u001b[39m\"\u001b[39m, \u001b[39mNone\u001b[39;00m))\n\u001b[1;32m    610\u001b[0m \u001b[39m# Create the parser.\u001b[39;00m\n\u001b[0;32m--> 611\u001b[0m parser \u001b[39m=\u001b[39m TextFileReader(filepath_or_buffer, \u001b[39m*\u001b[39;49m\u001b[39m*\u001b[39;49mkwds)\n\u001b[1;32m    613\u001b[0m \u001b[39mif\u001b[39;00m chunksize \u001b[39mor\u001b[39;00m iterator:\n\u001b[1;32m    614\u001b[0m     \u001b[39mreturn\u001b[39;00m parser\n",
      "File \u001b[0;32m~/mambaforge/envs/db-env/lib/python3.12/site-packages/pandas/io/parsers/readers.py:1448\u001b[0m, in \u001b[0;36mTextFileReader.__init__\u001b[0;34m(self, f, engine, **kwds)\u001b[0m\n\u001b[1;32m   1445\u001b[0m     \u001b[39mself\u001b[39m\u001b[39m.\u001b[39moptions[\u001b[39m\"\u001b[39m\u001b[39mhas_index_names\u001b[39m\u001b[39m\"\u001b[39m] \u001b[39m=\u001b[39m kwds[\u001b[39m\"\u001b[39m\u001b[39mhas_index_names\u001b[39m\u001b[39m\"\u001b[39m]\n\u001b[1;32m   1447\u001b[0m \u001b[39mself\u001b[39m\u001b[39m.\u001b[39mhandles: IOHandles \u001b[39m|\u001b[39m \u001b[39mNone\u001b[39;00m \u001b[39m=\u001b[39m \u001b[39mNone\u001b[39;00m\n\u001b[0;32m-> 1448\u001b[0m \u001b[39mself\u001b[39m\u001b[39m.\u001b[39m_engine \u001b[39m=\u001b[39m \u001b[39mself\u001b[39;49m\u001b[39m.\u001b[39;49m_make_engine(f, \u001b[39mself\u001b[39;49m\u001b[39m.\u001b[39;49mengine)\n",
      "File \u001b[0;32m~/mambaforge/envs/db-env/lib/python3.12/site-packages/pandas/io/parsers/readers.py:1723\u001b[0m, in \u001b[0;36mTextFileReader._make_engine\u001b[0;34m(self, f, engine)\u001b[0m\n\u001b[1;32m   1720\u001b[0m     \u001b[39mraise\u001b[39;00m \u001b[39mValueError\u001b[39;00m(msg)\n\u001b[1;32m   1722\u001b[0m \u001b[39mtry\u001b[39;00m:\n\u001b[0;32m-> 1723\u001b[0m     \u001b[39mreturn\u001b[39;00m mapping[engine](f, \u001b[39m*\u001b[39;49m\u001b[39m*\u001b[39;49m\u001b[39mself\u001b[39;49m\u001b[39m.\u001b[39;49moptions)\n\u001b[1;32m   1724\u001b[0m \u001b[39mexcept\u001b[39;00m \u001b[39mException\u001b[39;00m:\n\u001b[1;32m   1725\u001b[0m     \u001b[39mif\u001b[39;00m \u001b[39mself\u001b[39m\u001b[39m.\u001b[39mhandles \u001b[39mis\u001b[39;00m \u001b[39mnot\u001b[39;00m \u001b[39mNone\u001b[39;00m:\n",
      "File \u001b[0;32m~/mambaforge/envs/db-env/lib/python3.12/site-packages/pandas/io/parsers/c_parser_wrapper.py:93\u001b[0m, in \u001b[0;36mCParserWrapper.__init__\u001b[0;34m(self, src, **kwds)\u001b[0m\n\u001b[1;32m     90\u001b[0m \u001b[39mif\u001b[39;00m kwds[\u001b[39m\"\u001b[39m\u001b[39mdtype_backend\u001b[39m\u001b[39m\"\u001b[39m] \u001b[39m==\u001b[39m \u001b[39m\"\u001b[39m\u001b[39mpyarrow\u001b[39m\u001b[39m\"\u001b[39m:\n\u001b[1;32m     91\u001b[0m     \u001b[39m# Fail here loudly instead of in cython after reading\u001b[39;00m\n\u001b[1;32m     92\u001b[0m     import_optional_dependency(\u001b[39m\"\u001b[39m\u001b[39mpyarrow\u001b[39m\u001b[39m\"\u001b[39m)\n\u001b[0;32m---> 93\u001b[0m \u001b[39mself\u001b[39m\u001b[39m.\u001b[39m_reader \u001b[39m=\u001b[39m parsers\u001b[39m.\u001b[39;49mTextReader(src, \u001b[39m*\u001b[39;49m\u001b[39m*\u001b[39;49mkwds)\n\u001b[1;32m     95\u001b[0m \u001b[39mself\u001b[39m\u001b[39m.\u001b[39munnamed_cols \u001b[39m=\u001b[39m \u001b[39mself\u001b[39m\u001b[39m.\u001b[39m_reader\u001b[39m.\u001b[39munnamed_cols\n\u001b[1;32m     97\u001b[0m \u001b[39m# error: Cannot determine type of 'names'\u001b[39;00m\n",
      "File \u001b[0;32mparsers.pyx:579\u001b[0m, in \u001b[0;36mpandas._libs.parsers.TextReader.__cinit__\u001b[0;34m()\u001b[0m\n",
      "File \u001b[0;32mparsers.pyx:668\u001b[0m, in \u001b[0;36mpandas._libs.parsers.TextReader._get_header\u001b[0;34m()\u001b[0m\n",
      "File \u001b[0;32mparsers.pyx:879\u001b[0m, in \u001b[0;36mpandas._libs.parsers.TextReader._tokenize_rows\u001b[0;34m()\u001b[0m\n",
      "File \u001b[0;32mparsers.pyx:890\u001b[0m, in \u001b[0;36mpandas._libs.parsers.TextReader._check_tokenize_status\u001b[0;34m()\u001b[0m\n",
      "File \u001b[0;32mparsers.pyx:2050\u001b[0m, in \u001b[0;36mpandas._libs.parsers.raise_parser_error\u001b[0;34m()\u001b[0m\n",
      "File \u001b[0;32m<frozen codecs>:322\u001b[0m, in \u001b[0;36mdecode\u001b[0;34m(self, input, final)\u001b[0m\n",
      "\u001b[0;31mUnicodeDecodeError\u001b[0m: 'utf-8' codec can't decode byte 0xb3 in position 10: invalid start byte"
     ]
    }
   ],
   "source": [
    "import pandas as pd\n",
    "import sqlite3\n",
    "from sqlalchemy import create_engine, text\n",
    "\n",
    "engine = create_engine('sqlite:///data.db', echo=False)\n",
    "tables = [\"DEPARTMENT\", \"INSTRUCTOR\", \"COURSE\", \"STUDY_GROUP\", \"ANNOUNCEMENT\",  \"CONTACT\",\n",
    "          \"JOIN_GROUP\", \"MEET\", \"USER\", \"OFFER_COURSE\", \"IS_FRIEND_OF\", \"TAKE_COURSE\", \"MEET_AVAILABLE\"]\n",
    "\n",
    "# Read the SQL schema file\n",
    "with open(\"schema.sql\", 'r') as schema_file:\n",
    "    schema = schema_file.read()\n",
    "\n",
    "    # Split the schema into individual SQL statements\n",
    "    statements = schema.split(';')\n",
    "\n",
    "    # Execute each statement\n",
    "    for statement in statements:\n",
    "        statement = statement.strip()\n",
    "        if statement:\n",
    "            try:\n",
    "                with engine.connect() as connection:\n",
    "                    connection.execute(text(statement))\n",
    "            except sqlite3.OperationalError as e:\n",
    "                # Handle the error if the table already exists\n",
    "                if \"already exists\" not in str(e):\n",
    "                    print(f\"Error: {e}\")\n",
    "                    print(f\"Skipping statement: {statement}\")\n",
    "                    continue\n",
    "for table in tables:\n",
    "    print(\"Converting:\", table)\n",
    "\n",
    "# Read the CSV file\n",
    "    df = pd.read_csv(f\"{table}.csv\")\n",
    "    if table == \"STUDY_GROUP\" or table == \"COURSE\" or table == \"JOIN_GROUP\":\n",
    "        pass\n",
    "        del df[df.columns[0]]\n",
    "    if table == \"TAKE_COURSE\":\n",
    "        del df[\"sememter\"]\n",
    "        df[\"grade\"] = 'I'\n",
    "        df = df.drop_duplicates(subset=[\"course_ID\", \"user_ID\"])\n",
    "    if table == \"DEPARTMENT\":\n",
    "        df = df.drop_duplicates(subset='department_ID')\n",
    "    if table == \"CONTACT\":\n",
    "        df = df.drop_duplicates(subset=\"user_ID\")\n",
    "    if table == \"USER\":\n",
    "        df = df.drop_duplicates(subset=\"student_ID\")\n",
    "    if table == \"JOIN_GROUP\":\n",
    "        df = df.drop_duplicates(subset=[\"group_ID\", \"user_ID\"])\n",
    "    if table == \"MEET_AVAILABLE\":\n",
    "        df = df.drop_duplicates(\n",
    "            subset=[\"meet_ID\", \"user_ID\", \"available_from\", \"available_to\"])\n",
    "    with engine.begin() as connection:\n",
    "        df.to_sql(table, connection, if_exists='append', index=False)\n",
    "\n",
    "# Commit the changes and close the connection\n",
    "\n",
    "\n",
    "# \"MEET_AVAILABLE_TIME\", \"TAKE_COURSE\", \"IS_FRIEND_OF\",\"OFFER_COURSE\", \"USER\""
   ]
  }
 ],
 "metadata": {
  "kernelspec": {
   "display_name": "db-env",
   "language": "python",
   "name": "python3"
  },
  "language_info": {
   "codemirror_mode": {
    "name": "ipython",
    "version": 3
   },
   "file_extension": ".py",
   "mimetype": "text/x-python",
   "name": "python",
   "nbconvert_exporter": "python",
   "pygments_lexer": "ipython3",
   "version": "3.12.0"
  }
 },
 "nbformat": 4,
 "nbformat_minor": 2
}
